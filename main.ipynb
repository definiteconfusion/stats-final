{
 "cells": [
  {
   "cell_type": "markdown",
   "id": "548e0ec9",
   "metadata": {},
   "source": [
    "## Imports"
   ]
  },
  {
   "cell_type": "code",
   "execution_count": 66,
   "id": "f1a63f7f",
   "metadata": {},
   "outputs": [],
   "source": [
    "import sqlite3\n",
    "import pandas as pd\n",
    "import matplotlib.pyplot as plt"
   ]
  },
  {
   "cell_type": "code",
   "execution_count": 67,
   "id": "aec70c4e",
   "metadata": {},
   "outputs": [],
   "source": [
    "db = sqlite3.connect('backset.db')\n",
    "cursor = db.cursor()"
   ]
  },
  {
   "cell_type": "code",
   "execution_count": 68,
   "id": "9fc333fe",
   "metadata": {},
   "outputs": [],
   "source": [
    "country_of_interest = 'Japan'"
   ]
  },
  {
   "cell_type": "code",
   "execution_count": 69,
   "id": "82feb784",
   "metadata": {},
   "outputs": [],
   "source": [
    "# Schema is {\n",
    "# year: (spending, emmissions)   \n",
    "#}\n",
    "data_by_year = {}"
   ]
  },
  {
   "cell_type": "code",
   "execution_count": 70,
   "id": "81782aa9",
   "metadata": {},
   "outputs": [
    {
     "name": "stdout",
     "output_type": "stream",
     "text": [
      "{'2022': (911, 67775.742), '2021': (7, 66743.062), '2024': (63, 0), '2020': (263, 65681.156)}\n"
     ]
    }
   ],
   "source": [
    "cursor.execute(f'SELECT * FROM main where country = \"{country_of_interest}\"')\n",
    "rows = cursor.fetchall()\n",
    "for row in rows:\n",
    "    year = row[3]\n",
    "    emmis_per_year = cursor.execute(f'SELECT quantity FROM co2e where country = \"{country_of_interest}\" and year = {year}').fetchall()\n",
    "    if len(emmis_per_year) == 0:\n",
    "        emmis_per_year = [(0,)]\n",
    "    data_by_year[row[3]] = (row[5], (emmis_per_year)[0][0])\n",
    "print(data_by_year)"
   ]
  },
  {
   "cell_type": "code",
   "execution_count": null,
   "id": "82e2d516",
   "metadata": {},
   "outputs": [
    {
     "name": "stdout",
     "output_type": "stream",
     "text": [
      "Available matplotlib backends: ['gtk3agg', 'gtk3cairo', 'gtk4agg', 'gtk4cairo', 'macosx', 'nbagg', 'notebook', 'qtagg', 'qtcairo', 'qt5agg', 'qt5cairo', 'tkagg', 'tkcairo', 'webagg', 'wx', 'wxagg', 'wxcairo', 'agg', 'cairo', 'pdf', 'pgf', 'ps', 'svg', 'template']\n"
     ]
    },
    {
     "name": "stderr",
     "output_type": "stream",
     "text": [
      "/var/folders/0n/8zz9g7156fschqgxz7ttyjhc0000gn/T/ipykernel_22070/1152772971.py:37: MatplotlibDeprecationWarning: The all_backends attribute was deprecated in Matplotlib 3.9 and will be removed in 3.11. Use ``matplotlib.backends.backend_registry.list_builtin()`` instead.\n",
      "  available_backends = plt.matplotlib.rcsetup.all_backends\n"
     ]
    },
    {
     "ename": "",
     "evalue": "",
     "output_type": "error",
     "traceback": [
      "\u001b[1;31mThe Kernel crashed while executing code in the current cell or a previous cell. \n",
      "\u001b[1;31mPlease review the code in the cell(s) to identify a possible cause of the failure. \n",
      "\u001b[1;31mClick <a href='https://aka.ms/vscodeJupyterKernelCrash'>here</a> for more info. \n",
      "\u001b[1;31mView Jupyter <a href='command:jupyter.viewOutput'>log</a> for further details."
     ]
    }
   ],
   "source": [
    "from mpl_toolkits.mplot3d import Axes3D\n",
    "\n",
    "# Sort data by year to ensure proper plotting\n",
    "years = sorted(list(data_by_year.keys()))\n",
    "# Convert years to integers for plotting\n",
    "years_numeric = [int(year) for year in years]\n",
    "# Get spending and emissions data\n",
    "spending = [data_by_year[year][0] for year in years]\n",
    "emissions = [data_by_year[year][1] for year in years]\n",
    "\n",
    "# Create 3D plot\n",
    "fig = plt.figure(figsize=(12, 8))\n",
    "ax = fig.add_subplot(111, projection='3d')\n",
    "\n",
    "# Plot the 3D line\n",
    "ax.plot(years_numeric, spending, emissions, marker='o', linestyle='-', linewidth=2)\n",
    "\n",
    "# Add scatter points for better visibility\n",
    "ax.scatter(years_numeric, spending, emissions, color='red', s=100)\n",
    "\n",
    "# Set labels and title\n",
    "ax.set_xlabel('Year')\n",
    "ax.set_ylabel('Spending')\n",
    "ax.set_zlabel('Emissions')\n",
    "ax.set_title(f'3D Relationship between Year, Spending and Emissions in {country_of_interest}')\n",
    "\n",
    "# Improve readability - with conversion to appropriate types\n",
    "for year_num, year_str, spend, emis in zip(years_numeric, years, spending, emissions):\n",
    "    ax.text(year_num, spend, emis, f'({year_str}, {spend}, {emis:.1f})', fontsize=9)\n",
    "\n",
    "# Adjust view angle for better visualization\n",
    "ax.view_init(30, 45)\n",
    "\n",
    "plt.tight_layout()\n",
    "plt.show()"
   ]
  }
 ],
 "metadata": {
  "kernelspec": {
   "display_name": ".venv",
   "language": "python",
   "name": "python3"
  },
  "language_info": {
   "codemirror_mode": {
    "name": "ipython",
    "version": 3
   },
   "file_extension": ".py",
   "mimetype": "text/x-python",
   "name": "python",
   "nbconvert_exporter": "python",
   "pygments_lexer": "ipython3",
   "version": "3.13.2"
  }
 },
 "nbformat": 4,
 "nbformat_minor": 5
}
